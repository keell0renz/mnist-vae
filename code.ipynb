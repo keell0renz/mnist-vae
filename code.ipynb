{
 "cells": [
  {
   "cell_type": "code",
   "execution_count": null,
   "metadata": {},
   "outputs": [],
   "source": [
    "import keras\n",
    "from keras import layers\n",
    "from keras import backend\n",
    "from keras import models\n",
    "import numpy as np\n",
    "from tensorflow.python.framework.ops import disable_eager_execution\n",
    "import warnings\n",
    "import matplotlib.pyplot as plt\n",
    "\n",
    "warnings.filterwarnings(\"ignore\")\n",
    "disable_eager_execution()"
   ]
  },
  {
   "cell_type": "code",
   "execution_count": null,
   "metadata": {},
   "outputs": [],
   "source": [
    "class CustomVariationalLayer(keras.layers.Layer):\n",
    "    def __init__(self, z_mean, z_log_var):\n",
    "        super().__init__()\n",
    "        self.z_mean = z_mean\n",
    "        self.z_log_var = z_log_var\n",
    "\n",
    "    def vae_loss(self, x, z_decoded):\n",
    "        x = backend.flatten(x)\n",
    "        z_decoded = backend.flatten(z_decoded)\n",
    "\n",
    "        xent_loss = keras.metrics.binary_crossentropy(x, z_decoded)\n",
    "        k1_loss = -5e-4 * backend.mean(1 + self.z_log_var - backend.square(self.z_mean) - backend.exp(self.z_log_var), axis=-1)\n",
    "        return backend.mean(xent_loss + k1_loss)\n",
    "\n",
    "    def call(self, inputs):\n",
    "        x = inputs[0]\n",
    "        z_decoded = inputs[1]\n",
    "        loss = self.vae_loss(x, z_decoded)\n",
    "        self.add_loss(loss, inputs=inputs)\n",
    "        return x\n",
    "\n",
    "class VAE():\n",
    "    def __init__(self, img_shape, latent_dim):\n",
    "        self.img_shape = img_shape\n",
    "        self.latent_dim = latent_dim\n",
    "\n",
    "        self._model()\n",
    "\n",
    "    def _sampling(self, args):\n",
    "        z_mean, z_log_var = args\n",
    "        epsilon = backend.random_normal(shape=(backend.shape(z_mean)[0], latent_dim), mean=0., stddev=1.)\n",
    "        return z_mean + backend.exp(z_log_var) * epsilon\n",
    "\n",
    "    def _model(self):\n",
    "        input_img = keras.Input(shape=self.img_shape)\n",
    "\n",
    "        x = layers.Conv2D(32, 3, padding=\"same\", activation=\"relu\")(input_img)\n",
    "        x = layers.Conv2D(64, 3, padding=\"same\", activation=\"relu\", strides=(2, 2))(x)\n",
    "        x = layers.Conv2D(64, 3, padding=\"same\", activation=\"relu\")(x)\n",
    "        x = layers.Conv2D(64, 3, padding=\"same\", activation=\"relu\")(x)\n",
    "\n",
    "        shape_before_flattening = backend.int_shape(x)\n",
    "\n",
    "        x = layers.Flatten()(x)\n",
    "        x = layers.Dense(32, activation=\"relu\")(x)\n",
    "\n",
    "        z_mean = layers.Dense(self.latent_dim)(x)\n",
    "        z_log_var = layers.Dense(self.latent_dim)(x)\n",
    "\n",
    "        z = layers.Lambda(self._sampling)([z_mean, z_log_var])\n",
    "\n",
    "        decoder_input = layers.Input(backend.int_shape(z)[1:])\n",
    "\n",
    "        x = layers.Dense(np.prod(shape_before_flattening[1:]), activation=\"relu\")(decoder_input)\n",
    "        x = layers.Reshape(shape_before_flattening[1:])(x)\n",
    "        x = layers.Conv2DTranspose(32, 3, padding=\"same\", activation=\"relu\", strides=(2, 2))(x)\n",
    "        x = layers.Conv2D(1, 3, padding=\"same\", activation=\"sigmoid\")(x)\n",
    "\n",
    "        self.decoder = models.Model(decoder_input, x)\n",
    "        z_decoded = self.decoder(z)\n",
    "\n",
    "        self.y = CustomVariationalLayer(z_mean, z_log_var)([input_img, z_decoded])\n",
    "\n",
    "        self.vae = models.Model(input_img, self.y)\n",
    "        \n",
    "        self.vae.compile(optimizer=\"adam\", loss=None)\n",
    "\n",
    "    def train(self, **kwargs):\n",
    "        self.vae.fit(**kwargs)\n",
    "\n",
    "    def save(self, filename):\n",
    "        self.decoder.save(filename)\n",
    "\n",
    "    def load(self, filename):\n",
    "        self.decoder = keras.models.load_model(filename)\n",
    "\n",
    "    def produce_result(self, z_sample, print=False):\n",
    "        z_sample = np.array([z_sample])\n",
    "        z_sample = np.tile(z_sample, batch_size).reshape(batch_size, 2)\n",
    "        x_decoded = self.decoder.predict(z_sample, batch_size=batch_size, verbose=0)\n",
    "        digit = x_decoded[0].reshape(28, 28) # MNIST Image Size\n",
    "\n",
    "        if print:\n",
    "            plt.imshow(digit, cmap=\"binary\")\n",
    "\n",
    "        return digit"
   ]
  },
  {
   "cell_type": "code",
   "execution_count": null,
   "metadata": {},
   "outputs": [],
   "source": [
    "from keras.datasets import mnist\n",
    "\n",
    "(Xtrain, _), (Xtest, _) = mnist.load_data()\n",
    "\n",
    "Xtrain = Xtrain.astype('float32') / 255.\n",
    "Xtrain = Xtrain.reshape(Xtrain.shape + (1,))\n",
    "Xtest = Xtest.astype('float32') / 255.\n",
    "Xtest = Xtest.reshape(Xtest.shape + (1,))\n",
    "\n",
    "img_shape = (28, 28, 1)\n",
    "batch_size = 16\n",
    "latent_dim = 2\n",
    "\n",
    "model = VAE(img_shape, latent_dim)\n",
    "\n",
    "model.train(x=Xtrain, y=None, shuffle=True, epochs=5, batch_size=batch_size, validation_data=(Xtest, None))\n",
    "model.save(\"mnist_vae.model\")"
   ]
  },
  {
   "cell_type": "code",
   "execution_count": null,
   "metadata": {},
   "outputs": [],
   "source": [
    "model = VAE(img_shape, latent_dim)\n",
    "model.load(\"mnist_vae.model\")"
   ]
  },
  {
   "cell_type": "code",
   "execution_count": 58,
   "metadata": {},
   "outputs": [
    {
     "data": {
      "image/png": "[encoded data removed]",
      "text/plain": [
       "<Figure size 432x288 with 1 Axes>"
      ]
     },
     "metadata": {
      "needs_background": "light"
     },
     "output_type": "display_data"
    }
   ],
   "source": [
    "digit = model.produce_result([-1.5, -1.5], print=True) # Generate Digit"
   ]
  }
 ],
 "metadata": {
  "kernelspec": {
   "display_name": "Python 3.9.2 64-bit",
   "language": "python",
   "name": "python3"
  },
  "language_info": {
   "codemirror_mode": {
    "name": "ipython",
    "version": 3
   },
   "file_extension": ".py",
   "mimetype": "text/x-python",
   "name": "python",
   "nbconvert_exporter": "python",
   "pygments_lexer": "ipython3",
   "version": "3.9.2"
  },
  "orig_nbformat": 4,
  "vscode": {
   "interpreter": {
    "hash": "916dbcbb3f70747c44a77c7bcd40155683ae19c65e1c03b4aa3499c5328201f1"
   }
  }
 },
 "nbformat": 4,
 "nbformat_minor": 2
}
